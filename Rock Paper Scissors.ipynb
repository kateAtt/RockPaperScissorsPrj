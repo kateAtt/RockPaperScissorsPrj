{
 "cells": [
  {
   "cell_type": "markdown",
   "id": "1f062cb8",
   "metadata": {},
   "source": [
    "# Rock, Paper, Scissors"
   ]
  },
  {
   "cell_type": "markdown",
   "id": "766698a9",
   "metadata": {},
   "source": [
    "### To play, please type game(1) into an empty code cell"
   ]
  },
  {
   "cell_type": "code",
   "execution_count": 3,
   "id": "7b047daf",
   "metadata": {},
   "outputs": [],
   "source": [
    "def game(on):\n",
    "    import random\n",
    "\n",
    "    while on==1:\n",
    "        user_attack=input(\"rock... paper... scissors... GO-- \")\n",
    "        attacks= [\"rock\", \"paper\", \"scissors\"]\n",
    "        comp_attack= random.choice(attacks)\n",
    "        print(f\"\\nYou chose {user_attack}, opponent chose {comp_attack}.\\n\")\n",
    "\n",
    "        if user_attack == comp_attack:\n",
    "            print(f\"Both have selected {user_attack}. TIE!\")\n",
    "        \n",
    "        elif user_attack == \"rock\":\n",
    "            if comp_attack == \"scissors\":\n",
    "                print(\"Rock beats scissors! You win!\")\n",
    "            else:\n",
    "                print(\"Paper beats rock! You lose.\")\n",
    "        \n",
    "        elif user_attack == \"paper\":\n",
    "            if comp_attack == \"rock\":\n",
    "                print(\"Paper beats rock! You win!\")\n",
    "            else:\n",
    "                print(\"Scissors beats paper! You lose.\")\n",
    "        \n",
    "        elif user_attack == \"scissors\":\n",
    "            if comp_attack == \"paper\":\n",
    "                print(\"Scissors beats paper! You win!\")\n",
    "            else:\n",
    "                print(\"Rock beats scissors! You lose.\")\n",
    "\n",
    "        play_again = input(\"Play again? (y/n): \")\n",
    "        if play_again.lower() != \"y\":\n",
    "            break"
   ]
  },
  {
   "cell_type": "code",
   "execution_count": 4,
   "id": "77250422",
   "metadata": {},
   "outputs": [
    {
     "name": "stdout",
     "output_type": "stream",
     "text": [
      "rock... paper... scissors... GO-- scissors\n",
      "\n",
      "You chose scissors, opponent chose scissors.\n",
      "\n",
      "Both have selected scissors. TIE!\n",
      "Play again? (y/n): y\n",
      "rock... paper... scissors... GO-- rock\n",
      "\n",
      "You chose rock, opponent chose rock.\n",
      "\n",
      "Both have selected rock. TIE!\n",
      "Play again? (y/n): y\n",
      "rock... paper... scissors... GO-- paper\n",
      "\n",
      "You chose paper, opponent chose rock.\n",
      "\n",
      "Paper beats rock! You win!\n",
      "Play again? (y/n): n\n"
     ]
    }
   ],
   "source": [
    "game(1)"
   ]
  },
  {
   "cell_type": "code",
   "execution_count": null,
   "id": "e5b4d4cf",
   "metadata": {},
   "outputs": [],
   "source": []
  }
 ],
 "metadata": {
  "kernelspec": {
   "display_name": "Python 3 (ipykernel)",
   "language": "python",
   "name": "python3"
  },
  "language_info": {
   "codemirror_mode": {
    "name": "ipython",
    "version": 3
   },
   "file_extension": ".py",
   "mimetype": "text/x-python",
   "name": "python",
   "nbconvert_exporter": "python",
   "pygments_lexer": "ipython3",
   "version": "3.9.13"
  }
 },
 "nbformat": 4,
 "nbformat_minor": 5
}
